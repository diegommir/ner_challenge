{
 "cells": [
  {
   "cell_type": "markdown",
   "id": "ca4f3f7c",
   "metadata": {},
   "source": [
    "# Jeopardy Questions Analysis\n",
    "\n",
    "The objective here is to see how this database looks like. How is data categorized in order to attend the challenge requirements."
   ]
  },
  {
   "cell_type": "code",
   "execution_count": null,
   "id": "9c80dae9-3e26-4a19-84af-3d019ea40b74",
   "metadata": {},
   "outputs": [],
   "source": [
    "import pandas as pd"
   ]
  },
  {
   "cell_type": "code",
   "execution_count": 70,
   "id": "ced9448a",
   "metadata": {},
   "outputs": [],
   "source": [
    "df = pd.read_json('../../files/JEOPARDY_QUESTIONS1.json')"
   ]
  },
  {
   "cell_type": "code",
   "execution_count": 71,
   "id": "ee64e7eb",
   "metadata": {},
   "outputs": [
    {
     "data": {
      "text/plain": [
       "(216930, 7)"
      ]
     },
     "execution_count": 71,
     "metadata": {},
     "output_type": "execute_result"
    }
   ],
   "source": [
    "df.shape"
   ]
  },
  {
   "cell_type": "code",
   "execution_count": 72,
   "id": "6579bc31",
   "metadata": {},
   "outputs": [
    {
     "data": {
      "text/plain": [
       "Index(['category', 'air_date', 'question', 'value', 'answer', 'round',\n",
       "       'show_number'],\n",
       "      dtype='object')"
      ]
     },
     "execution_count": 72,
     "metadata": {},
     "output_type": "execute_result"
    }
   ],
   "source": [
    "df.columns"
   ]
  },
  {
   "cell_type": "code",
   "execution_count": 73,
   "id": "bd50ecab",
   "metadata": {},
   "outputs": [
    {
     "data": {
      "text/plain": [
       "array(['HISTORY', \"ESPN's TOP 10 ALL-TIME ATHLETES\",\n",
       "       'EVERYBODY TALKS ABOUT IT...', ..., 'OFF-BROADWAY',\n",
       "       'RIDDLE ME THIS', 'AUTHORS IN THEIR YOUTH'],\n",
       "      shape=(27995,), dtype=object)"
      ]
     },
     "execution_count": 73,
     "metadata": {},
     "output_type": "execute_result"
    }
   ],
   "source": [
    "df['category'].unique()"
   ]
  },
  {
   "cell_type": "markdown",
   "id": "6e52b297",
   "metadata": {},
   "source": [
    "There is too many categories. Maybe is better to include this on the prompt categorization?"
   ]
  },
  {
   "cell_type": "code",
   "execution_count": 74,
   "id": "73b10f49",
   "metadata": {},
   "outputs": [
    {
     "data": {
      "text/plain": [
       "array(['2004-12-31', '2010-07-06', '2000-12-18', ..., '2006-09-29',\n",
       "       '2007-03-23', '2006-05-11'], shape=(3640,), dtype=object)"
      ]
     },
     "execution_count": 74,
     "metadata": {},
     "output_type": "execute_result"
    }
   ],
   "source": [
    "df['air_date'].unique()"
   ]
  },
  {
   "cell_type": "code",
   "execution_count": 75,
   "id": "b2e2ca86",
   "metadata": {},
   "outputs": [
    {
     "data": {
      "text/plain": [
       "array([4680, 5957, 3751, ..., 5070, 5195, 4999], shape=(3640,))"
      ]
     },
     "execution_count": 75,
     "metadata": {},
     "output_type": "execute_result"
    }
   ],
   "source": [
    "df['show_number'].unique()"
   ]
  },
  {
   "cell_type": "code",
   "execution_count": 87,
   "id": "9afe7546",
   "metadata": {},
   "outputs": [
    {
     "data": {
      "text/plain": [
       "np.float64(0.9999810894074881)"
      ]
     },
     "execution_count": 87,
     "metadata": {},
     "output_type": "execute_result"
    }
   ],
   "source": [
    "df['air_date'] = pd.to_datetime(df['air_date'])\n",
    "df['air_date'].corr(df['show_number'])"
   ]
  },
  {
   "cell_type": "markdown",
   "id": "ea732738",
   "metadata": {},
   "source": [
    "Correlation between 'air_date' and 'show_number'..."
   ]
  },
  {
   "cell_type": "code",
   "execution_count": 77,
   "id": "1d2a8fcb",
   "metadata": {},
   "outputs": [
    {
     "data": {
      "text/plain": [
       "array(['$200', '$400', '$600', '$800', '$2,000', '$1000', '$1200',\n",
       "       '$1600', '$2000', '$3,200', None, '$5,000', '$100', '$300', '$500',\n",
       "       '$1,000', '$1,500', '$1,200', '$4,800', '$1,800', '$1,100',\n",
       "       '$2,200', '$3,400', '$3,000', '$4,000', '$1,600', '$6,800',\n",
       "       '$1,900', '$3,100', '$700', '$1,400', '$2,800', '$8,000', '$6,000',\n",
       "       '$2,400', '$12,000', '$3,800', '$2,500', '$6,200', '$10,000',\n",
       "       '$7,000', '$1,492', '$7,400', '$1,300', '$7,200', '$2,600',\n",
       "       '$3,300', '$5,400', '$4,500', '$2,100', '$900', '$3,600', '$2,127',\n",
       "       '$367', '$4,400', '$3,500', '$2,900', '$3,900', '$4,100', '$4,600',\n",
       "       '$10,800', '$2,300', '$5,600', '$1,111', '$8,200', '$5,800',\n",
       "       '$750', '$7,500', '$1,700', '$9,000', '$6,100', '$1,020', '$4,700',\n",
       "       '$2,021', '$5,200', '$3,389', '$4,200', '$5', '$2,001', '$1,263',\n",
       "       '$4,637', '$3,201', '$6,600', '$3,700', '$2,990', '$5,500',\n",
       "       '$14,000', '$2,700', '$6,400', '$350', '$8,600', '$6,300', '$250',\n",
       "       '$3,989', '$8,917', '$9,500', '$1,246', '$6,435', '$8,800',\n",
       "       '$2,222', '$2,746', '$10,400', '$7,600', '$6,700', '$5,100',\n",
       "       '$13,200', '$4,300', '$1,407', '$12,400', '$5,401', '$7,800',\n",
       "       '$1,183', '$1,203', '$13,000', '$11,600', '$14,200', '$1,809',\n",
       "       '$8,400', '$8,700', '$11,000', '$5,201', '$1,801', '$3,499',\n",
       "       '$5,700', '$601', '$4,008', '$50', '$2,344', '$2,811', '$18,000',\n",
       "       '$1,777', '$3,599', '$9,800', '$796', '$3,150', '$20', '$1,810',\n",
       "       '$22', '$9,200', '$1,512', '$8,500', '$585', '$1,534', '$13,800',\n",
       "       '$5,001', '$4,238', '$16,400', '$1,347', '$2547', '$11,200'],\n",
       "      dtype=object)"
      ]
     },
     "execution_count": 77,
     "metadata": {},
     "output_type": "execute_result"
    }
   ],
   "source": [
    "df['value'].unique()"
   ]
  },
  {
   "cell_type": "markdown",
   "id": "b82052ec",
   "metadata": {},
   "source": [
    "Maybe convert to number and create a range category..."
   ]
  },
  {
   "cell_type": "code",
   "execution_count": 78,
   "id": "b4c29044",
   "metadata": {},
   "outputs": [
    {
     "data": {
      "text/plain": [
       "array([2.000e+02, 4.000e+02, 6.000e+02, 8.000e+02, 2.000e+03, 1.000e+03,\n",
       "       1.200e+03, 1.600e+03, 3.200e+03,       nan, 5.000e+03, 1.000e+02,\n",
       "       3.000e+02, 5.000e+02, 1.500e+03, 4.800e+03, 1.800e+03, 1.100e+03,\n",
       "       2.200e+03, 3.400e+03, 3.000e+03, 4.000e+03, 6.800e+03, 1.900e+03,\n",
       "       3.100e+03, 7.000e+02, 1.400e+03, 2.800e+03, 8.000e+03, 6.000e+03,\n",
       "       2.400e+03, 1.200e+04, 3.800e+03, 2.500e+03, 6.200e+03, 1.000e+04,\n",
       "       7.000e+03, 1.492e+03, 7.400e+03, 1.300e+03, 7.200e+03, 2.600e+03,\n",
       "       3.300e+03, 5.400e+03, 4.500e+03, 2.100e+03, 9.000e+02, 3.600e+03,\n",
       "       2.127e+03, 3.670e+02, 4.400e+03, 3.500e+03, 2.900e+03, 3.900e+03,\n",
       "       4.100e+03, 4.600e+03, 1.080e+04, 2.300e+03, 5.600e+03, 1.111e+03,\n",
       "       8.200e+03, 5.800e+03, 7.500e+02, 7.500e+03, 1.700e+03, 9.000e+03,\n",
       "       6.100e+03, 1.020e+03, 4.700e+03, 2.021e+03, 5.200e+03, 3.389e+03,\n",
       "       4.200e+03, 5.000e+00, 2.001e+03, 1.263e+03, 4.637e+03, 3.201e+03,\n",
       "       6.600e+03, 3.700e+03, 2.990e+03, 5.500e+03, 1.400e+04, 2.700e+03,\n",
       "       6.400e+03, 3.500e+02, 8.600e+03, 6.300e+03, 2.500e+02, 3.989e+03,\n",
       "       8.917e+03, 9.500e+03, 1.246e+03, 6.435e+03, 8.800e+03, 2.222e+03,\n",
       "       2.746e+03, 1.040e+04, 7.600e+03, 6.700e+03, 5.100e+03, 1.320e+04,\n",
       "       4.300e+03, 1.407e+03, 1.240e+04, 5.401e+03, 7.800e+03, 1.183e+03,\n",
       "       1.203e+03, 1.300e+04, 1.160e+04, 1.420e+04, 1.809e+03, 8.400e+03,\n",
       "       8.700e+03, 1.100e+04, 5.201e+03, 1.801e+03, 3.499e+03, 5.700e+03,\n",
       "       6.010e+02, 4.008e+03, 5.000e+01, 2.344e+03, 2.811e+03, 1.800e+04,\n",
       "       1.777e+03, 3.599e+03, 9.800e+03, 7.960e+02, 3.150e+03, 2.000e+01,\n",
       "       1.810e+03, 2.200e+01, 9.200e+03, 1.512e+03, 8.500e+03, 5.850e+02,\n",
       "       1.534e+03, 1.380e+04, 5.001e+03, 4.238e+03, 1.640e+04, 1.347e+03,\n",
       "       2.547e+03, 1.120e+04])"
      ]
     },
     "execution_count": 78,
     "metadata": {},
     "output_type": "execute_result"
    }
   ],
   "source": [
    "def clean_value(val):\n",
    "    if val:\n",
    "        val = val.replace(',', '').replace('$', '').strip()\n",
    "        return int(val)\n",
    "    return None\n",
    "\n",
    "df['value'] = df['value'].apply(clean_value)\n",
    "df['value'].unique()"
   ]
  },
  {
   "cell_type": "code",
   "execution_count": 86,
   "id": "05eecd93",
   "metadata": {},
   "outputs": [
    {
     "data": {
      "text/plain": [
       "array(['0-1000', '1001-3000', '3001-5000', 'Final', '5001-8000',\n",
       "       '8001-10000', '10001+'], dtype=object)"
      ]
     },
     "execution_count": 86,
     "metadata": {},
     "output_type": "execute_result"
    }
   ],
   "source": [
    "def value_categories(val):\n",
    "    if pd.isna(val):\n",
    "        return 'Final'\n",
    "    elif val < 1000:\n",
    "        return '0-1000'\n",
    "    elif val < 3000:\n",
    "        return '1001-3000'\n",
    "    elif val < 5000:\n",
    "        return '3001-5000'\n",
    "    elif val < 8000:\n",
    "        return '5001-8000'\n",
    "    elif val < 10000:\n",
    "        return '8001-10000'\n",
    "    else:\n",
    "        return '10001+'\n",
    "\n",
    "df['value_categories'] = df['value'].apply(value_categories)\n",
    "df['value_categories'].unique()"
   ]
  },
  {
   "cell_type": "code",
   "execution_count": 8,
   "id": "c5fc5201",
   "metadata": {},
   "outputs": [
    {
     "data": {
      "text/plain": [
       "array(['Jeopardy!', 'Double Jeopardy!', 'Final Jeopardy!', 'Tiebreaker'],\n",
       "      dtype=object)"
      ]
     },
     "execution_count": 8,
     "metadata": {},
     "output_type": "execute_result"
    }
   ],
   "source": [
    "df['round'].unique()"
   ]
  },
  {
   "cell_type": "code",
   "execution_count": null,
   "id": "1dd7c5cd",
   "metadata": {},
   "outputs": [
    {
     "data": {
      "text/plain": [
       "array([\"'For the last 8 years of his life, Galileo was under house arrest for espousing this man's theory'\",\n",
       "       \"'No. 2: 1912 Olympian; football star at Carlisle Indian School; 6 MLB seasons with the Reds, Giants & Braves'\",\n",
       "       \"'The city of Yuma in this state has a record average of 4,055 hours of sunshine each year'\",\n",
       "       ...,\n",
       "       '\\'In Penny Lane, where this \"Hellraiser\" grew up, the barber shaves another customer--then flays him alive!\\'',\n",
       "       '\\'From Ft. Sill, Okla. he made the plea, Arizona is my land, my home, my father\\'s land, to which I now ask to... return\"\\'',\n",
       "       \"'A silent movie title includes the last name of this 18th c. statesman & favorite of Catherine the Great'\"],\n",
       "      shape=(216132,), dtype=object)"
      ]
     },
     "execution_count": 80,
     "metadata": {},
     "output_type": "execute_result"
    }
   ],
   "source": [
    "df['question'].unique()"
   ]
  },
  {
   "cell_type": "markdown",
   "id": "e1b4a688",
   "metadata": {},
   "source": [
    "Looks like there is some duplicate questions. Maybe is for the best to just remove them."
   ]
  },
  {
   "cell_type": "code",
   "execution_count": 81,
   "id": "9f5836a7",
   "metadata": {},
   "outputs": [
    {
     "data": {
      "text/html": [
       "<div>\n",
       "<style scoped>\n",
       "    .dataframe tbody tr th:only-of-type {\n",
       "        vertical-align: middle;\n",
       "    }\n",
       "\n",
       "    .dataframe tbody tr th {\n",
       "        vertical-align: top;\n",
       "    }\n",
       "\n",
       "    .dataframe thead th {\n",
       "        text-align: right;\n",
       "    }\n",
       "</style>\n",
       "<table border=\"1\" class=\"dataframe\">\n",
       "  <thead>\n",
       "    <tr style=\"text-align: right;\">\n",
       "      <th></th>\n",
       "      <th>category</th>\n",
       "      <th>air_date</th>\n",
       "      <th>question</th>\n",
       "      <th>value</th>\n",
       "      <th>answer</th>\n",
       "      <th>round</th>\n",
       "      <th>show_number</th>\n",
       "    </tr>\n",
       "  </thead>\n",
       "  <tbody>\n",
       "    <tr>\n",
       "      <th>76511</th>\n",
       "      <td>PRESIDENTIAL BIOGRAPHIES</td>\n",
       "      <td>2008-10-14</td>\n",
       "      <td>'\"A Time to Heal\"'</td>\n",
       "      <td>2000.0</td>\n",
       "      <td>Gerald Ford</td>\n",
       "      <td>Double Jeopardy!</td>\n",
       "      <td>5542</td>\n",
       "    </tr>\n",
       "    <tr>\n",
       "      <th>144726</th>\n",
       "      <td>BOOKS BY PRESIDENTS</td>\n",
       "      <td>1998-06-29</td>\n",
       "      <td>'\"A Time to Heal\"'</td>\n",
       "      <td>400.0</td>\n",
       "      <td>Gerald Ford</td>\n",
       "      <td>Double Jeopardy!</td>\n",
       "      <td>3201</td>\n",
       "    </tr>\n",
       "    <tr>\n",
       "      <th>30412</th>\n",
       "      <td>MOVIE LOVE THEMES</td>\n",
       "      <td>1998-05-27</td>\n",
       "      <td>'\"A Whole New World\"'</td>\n",
       "      <td>400.0</td>\n",
       "      <td>Aladdin</td>\n",
       "      <td>Double Jeopardy!</td>\n",
       "      <td>3178</td>\n",
       "    </tr>\n",
       "    <tr>\n",
       "      <th>189941</th>\n",
       "      <td>SONGS FROM DISNEY FILMS</td>\n",
       "      <td>2003-02-20</td>\n",
       "      <td>'\"A Whole New World\"'</td>\n",
       "      <td>800.0</td>\n",
       "      <td>Aladdin</td>\n",
       "      <td>Double Jeopardy!</td>\n",
       "      <td>4259</td>\n",
       "    </tr>\n",
       "    <tr>\n",
       "      <th>59633</th>\n",
       "      <td>WHAT'S THE PITCH?</td>\n",
       "      <td>1996-01-16</td>\n",
       "      <td>'\"A mind is a terrible thing to waste\"'</td>\n",
       "      <td>500.0</td>\n",
       "      <td>United Negro College Fund (UNCF)</td>\n",
       "      <td>Jeopardy!</td>\n",
       "      <td>2622</td>\n",
       "    </tr>\n",
       "    <tr>\n",
       "      <th>...</th>\n",
       "      <td>...</td>\n",
       "      <td>...</td>\n",
       "      <td>...</td>\n",
       "      <td>...</td>\n",
       "      <td>...</td>\n",
       "      <td>...</td>\n",
       "      <td>...</td>\n",
       "    </tr>\n",
       "    <tr>\n",
       "      <th>78645</th>\n",
       "      <td>SIGNS &amp; SYMBOLS</td>\n",
       "      <td>1997-12-29</td>\n",
       "      <td>'[video clue]'</td>\n",
       "      <td>100.0</td>\n",
       "      <td>Slippery When Wet</td>\n",
       "      <td>Jeopardy!</td>\n",
       "      <td>3071</td>\n",
       "    </tr>\n",
       "    <tr>\n",
       "      <th>78651</th>\n",
       "      <td>SIGNS &amp; SYMBOLS</td>\n",
       "      <td>1997-12-29</td>\n",
       "      <td>'[video clue]'</td>\n",
       "      <td>200.0</td>\n",
       "      <td>Lost And Found</td>\n",
       "      <td>Jeopardy!</td>\n",
       "      <td>3071</td>\n",
       "    </tr>\n",
       "    <tr>\n",
       "      <th>78657</th>\n",
       "      <td>SIGNS &amp; SYMBOLS</td>\n",
       "      <td>1997-12-29</td>\n",
       "      <td>'[video clue]'</td>\n",
       "      <td>300.0</td>\n",
       "      <td>(Registered) Trademark</td>\n",
       "      <td>Jeopardy!</td>\n",
       "      <td>3071</td>\n",
       "    </tr>\n",
       "    <tr>\n",
       "      <th>144796</th>\n",
       "      <td>AUTO LOGOS</td>\n",
       "      <td>2002-10-17</td>\n",
       "      <td>'[video clue]'</td>\n",
       "      <td>1200.0</td>\n",
       "      <td>Toyota</td>\n",
       "      <td>Double Jeopardy!</td>\n",
       "      <td>4169</td>\n",
       "    </tr>\n",
       "    <tr>\n",
       "      <th>118094</th>\n",
       "      <td>WHAT'LL YA HAVE?</td>\n",
       "      <td>2001-12-11</td>\n",
       "      <td>'[video clue]'</td>\n",
       "      <td>600.0</td>\n",
       "      <td>the head (on top of a pint of Guinness)</td>\n",
       "      <td>Jeopardy!</td>\n",
       "      <td>3977</td>\n",
       "    </tr>\n",
       "  </tbody>\n",
       "</table>\n",
       "<p>1528 rows × 7 columns</p>\n",
       "</div>"
      ],
      "text/plain": [
       "                        category    air_date  \\\n",
       "76511   PRESIDENTIAL BIOGRAPHIES  2008-10-14   \n",
       "144726       BOOKS BY PRESIDENTS  1998-06-29   \n",
       "30412          MOVIE LOVE THEMES  1998-05-27   \n",
       "189941   SONGS FROM DISNEY FILMS  2003-02-20   \n",
       "59633          WHAT'S THE PITCH?  1996-01-16   \n",
       "...                          ...         ...   \n",
       "78645            SIGNS & SYMBOLS  1997-12-29   \n",
       "78651            SIGNS & SYMBOLS  1997-12-29   \n",
       "78657            SIGNS & SYMBOLS  1997-12-29   \n",
       "144796                AUTO LOGOS  2002-10-17   \n",
       "118094          WHAT'LL YA HAVE?  2001-12-11   \n",
       "\n",
       "                                       question   value  \\\n",
       "76511                        '\"A Time to Heal\"'  2000.0   \n",
       "144726                       '\"A Time to Heal\"'   400.0   \n",
       "30412                     '\"A Whole New World\"'   400.0   \n",
       "189941                    '\"A Whole New World\"'   800.0   \n",
       "59633   '\"A mind is a terrible thing to waste\"'   500.0   \n",
       "...                                         ...     ...   \n",
       "78645                            '[video clue]'   100.0   \n",
       "78651                            '[video clue]'   200.0   \n",
       "78657                            '[video clue]'   300.0   \n",
       "144796                           '[video clue]'  1200.0   \n",
       "118094                           '[video clue]'   600.0   \n",
       "\n",
       "                                         answer             round  show_number  \n",
       "76511                               Gerald Ford  Double Jeopardy!         5542  \n",
       "144726                              Gerald Ford  Double Jeopardy!         3201  \n",
       "30412                                   Aladdin  Double Jeopardy!         3178  \n",
       "189941                                  Aladdin  Double Jeopardy!         4259  \n",
       "59633          United Negro College Fund (UNCF)         Jeopardy!         2622  \n",
       "...                                         ...               ...          ...  \n",
       "78645                         Slippery When Wet         Jeopardy!         3071  \n",
       "78651                            Lost And Found         Jeopardy!         3071  \n",
       "78657                    (Registered) Trademark         Jeopardy!         3071  \n",
       "144796                                   Toyota  Double Jeopardy!         4169  \n",
       "118094  the head (on top of a pint of Guinness)         Jeopardy!         3977  \n",
       "\n",
       "[1528 rows x 7 columns]"
      ]
     },
     "execution_count": 81,
     "metadata": {},
     "output_type": "execute_result"
    }
   ],
   "source": [
    "df_dupli = df[df.duplicated('question', keep=False)].sort_values(by='question')\n",
    "df_dupli"
   ]
  },
  {
   "cell_type": "markdown",
   "id": "27a7afdd",
   "metadata": {},
   "source": [
    "It looks like although the question is duplicated, they are from different shows, with different values, etc. So removing them can interfere on the filtering of the subset dataset creation.\n",
    "\n",
    "But this '[video clue]' questions where not expected and can be a problem. I'm going to remove them. Also, I'm going to search for more of these types of questions."
   ]
  },
  {
   "cell_type": "code",
   "execution_count": 47,
   "id": "f0a3edb4",
   "metadata": {},
   "outputs": [
    {
     "data": {
      "text/plain": [
       "(216916, 7)"
      ]
     },
     "execution_count": 47,
     "metadata": {},
     "output_type": "execute_result"
    }
   ],
   "source": [
    "df = df[df['question'] != \"'[video clue]'\"]\n",
    "df.shape"
   ]
  },
  {
   "cell_type": "markdown",
   "id": "c21e0db1",
   "metadata": {},
   "source": [
    "Only 14 of those."
   ]
  },
  {
   "cell_type": "markdown",
   "id": "209480ec",
   "metadata": {},
   "source": []
  },
  {
   "cell_type": "code",
   "execution_count": 88,
   "id": "d8b972c4",
   "metadata": {},
   "outputs": [
    {
     "data": {
      "text/html": [
       "<div>\n",
       "<style scoped>\n",
       "    .dataframe tbody tr th:only-of-type {\n",
       "        vertical-align: middle;\n",
       "    }\n",
       "\n",
       "    .dataframe tbody tr th {\n",
       "        vertical-align: top;\n",
       "    }\n",
       "\n",
       "    .dataframe thead th {\n",
       "        text-align: right;\n",
       "    }\n",
       "</style>\n",
       "<table border=\"1\" class=\"dataframe\">\n",
       "  <thead>\n",
       "    <tr style=\"text-align: right;\">\n",
       "      <th></th>\n",
       "      <th>category</th>\n",
       "      <th>air_date</th>\n",
       "      <th>question</th>\n",
       "      <th>value</th>\n",
       "      <th>answer</th>\n",
       "      <th>round</th>\n",
       "      <th>show_number</th>\n",
       "      <th>value_categories</th>\n",
       "    </tr>\n",
       "  </thead>\n",
       "  <tbody>\n",
       "    <tr>\n",
       "      <th>0</th>\n",
       "      <td>HISTORY</td>\n",
       "      <td>2004-12-31</td>\n",
       "      <td>'For the last 8 years of his life, Galileo was...</td>\n",
       "      <td>200.0</td>\n",
       "      <td>Copernicus</td>\n",
       "      <td>Jeopardy!</td>\n",
       "      <td>4680</td>\n",
       "      <td>0-1000</td>\n",
       "    </tr>\n",
       "    <tr>\n",
       "      <th>1</th>\n",
       "      <td>ESPN's TOP 10 ALL-TIME ATHLETES</td>\n",
       "      <td>2004-12-31</td>\n",
       "      <td>'No. 2: 1912 Olympian; football star at Carlis...</td>\n",
       "      <td>200.0</td>\n",
       "      <td>Jim Thorpe</td>\n",
       "      <td>Jeopardy!</td>\n",
       "      <td>4680</td>\n",
       "      <td>0-1000</td>\n",
       "    </tr>\n",
       "    <tr>\n",
       "      <th>2</th>\n",
       "      <td>EVERYBODY TALKS ABOUT IT...</td>\n",
       "      <td>2004-12-31</td>\n",
       "      <td>'The city of Yuma in this state has a record a...</td>\n",
       "      <td>200.0</td>\n",
       "      <td>Arizona</td>\n",
       "      <td>Jeopardy!</td>\n",
       "      <td>4680</td>\n",
       "      <td>0-1000</td>\n",
       "    </tr>\n",
       "    <tr>\n",
       "      <th>3</th>\n",
       "      <td>THE COMPANY LINE</td>\n",
       "      <td>2004-12-31</td>\n",
       "      <td>'In 1963, live on \"The Art Linkletter Show\", t...</td>\n",
       "      <td>200.0</td>\n",
       "      <td>McDonald\\'s</td>\n",
       "      <td>Jeopardy!</td>\n",
       "      <td>4680</td>\n",
       "      <td>0-1000</td>\n",
       "    </tr>\n",
       "    <tr>\n",
       "      <th>4</th>\n",
       "      <td>EPITAPHS &amp; TRIBUTES</td>\n",
       "      <td>2004-12-31</td>\n",
       "      <td>'Signer of the Dec. of Indep., framer of the C...</td>\n",
       "      <td>200.0</td>\n",
       "      <td>John Adams</td>\n",
       "      <td>Jeopardy!</td>\n",
       "      <td>4680</td>\n",
       "      <td>0-1000</td>\n",
       "    </tr>\n",
       "  </tbody>\n",
       "</table>\n",
       "</div>"
      ],
      "text/plain": [
       "                          category   air_date  \\\n",
       "0                          HISTORY 2004-12-31   \n",
       "1  ESPN's TOP 10 ALL-TIME ATHLETES 2004-12-31   \n",
       "2      EVERYBODY TALKS ABOUT IT... 2004-12-31   \n",
       "3                 THE COMPANY LINE 2004-12-31   \n",
       "4              EPITAPHS & TRIBUTES 2004-12-31   \n",
       "\n",
       "                                            question  value       answer  \\\n",
       "0  'For the last 8 years of his life, Galileo was...  200.0   Copernicus   \n",
       "1  'No. 2: 1912 Olympian; football star at Carlis...  200.0   Jim Thorpe   \n",
       "2  'The city of Yuma in this state has a record a...  200.0      Arizona   \n",
       "3  'In 1963, live on \"The Art Linkletter Show\", t...  200.0  McDonald\\'s   \n",
       "4  'Signer of the Dec. of Indep., framer of the C...  200.0   John Adams   \n",
       "\n",
       "       round  show_number value_categories  \n",
       "0  Jeopardy!         4680           0-1000  \n",
       "1  Jeopardy!         4680           0-1000  \n",
       "2  Jeopardy!         4680           0-1000  \n",
       "3  Jeopardy!         4680           0-1000  \n",
       "4  Jeopardy!         4680           0-1000  "
      ]
     },
     "execution_count": 88,
     "metadata": {},
     "output_type": "execute_result"
    }
   ],
   "source": [
    "df.head()"
   ]
  },
  {
   "cell_type": "code",
   "execution_count": 90,
   "id": "1d1e742f",
   "metadata": {},
   "outputs": [],
   "source": [
    "df.to_csv('../../files/questions.csv')"
   ]
  }
 ],
 "metadata": {
  "kernelspec": {
   "display_name": ".venv (3.13.7)",
   "language": "python",
   "name": "python3"
  },
  "language_info": {
   "codemirror_mode": {
    "name": "ipython",
    "version": 3
   },
   "file_extension": ".py",
   "mimetype": "text/x-python",
   "name": "python",
   "nbconvert_exporter": "python",
   "pygments_lexer": "ipython3",
   "version": "3.13.7"
  }
 },
 "nbformat": 4,
 "nbformat_minor": 5
}
